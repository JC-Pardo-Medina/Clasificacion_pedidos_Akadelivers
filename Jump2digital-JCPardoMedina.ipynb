{
 "cells": [
  {
   "cell_type": "markdown",
   "id": "5af72876",
   "metadata": {},
   "source": [
    "#### Importación de las librerías y del DF"
   ]
  },
  {
   "cell_type": "code",
   "execution_count": 325,
   "id": "b8f2f644",
   "metadata": {},
   "outputs": [],
   "source": [
    "import pandas as pd\n",
    "import numpy as np\n",
    "import statsmodels.api as sm\n",
    "import matplotlib.pyplot as plt\n",
    "import seaborn as sns\n",
    "import datetime as dt\n",
    "import matplotlib.dates as mdates\n",
    "import statistics\n",
    "from sklearn.model_selection import train_test_split\n",
    "from sklearn.ensemble import RandomForestClassifier\n",
    "from sklearn.naive_bayes import GaussianNB\n",
    "from sklearn.preprocessing import OneHotEncoder\n",
    "from sklearn.metrics import confusion_matrix, accuracy_score, roc_auc_score, f1_score, recall_score, precision_score\n",
    "from imblearn.under_sampling import RandomUnderSampler\n",
    "from sklearn.neighbors import KNeighborsClassifier\n",
    "from sklearn.linear_model import LogisticRegression\n",
    "from sklearn.model_selection import cross_val_score\n",
    "from sklearn.metrics import make_scorer\n",
    "from sklearn.model_selection import cross_val_predict\n",
    "from sklearn.model_selection import KFold"
   ]
  },
  {
   "cell_type": "code",
   "execution_count": 204,
   "id": "17cecf06",
   "metadata": {},
   "outputs": [],
   "source": [
    "df = pd.read_csv(\"train.csv\")"
   ]
  },
  {
   "cell_type": "markdown",
   "id": "bd7100bc",
   "metadata": {},
   "source": [
    "#### Limpieza de datos y análisis de los mismos"
   ]
  },
  {
   "cell_type": "code",
   "execution_count": 205,
   "id": "b3c17299",
   "metadata": {},
   "outputs": [],
   "source": [
    "df.replace(df[\"final_status\"].unique()[0], 1,inplace=True)\n",
    "df.replace(df[\"final_status\"].unique()[1], 0, inplace=True)"
   ]
  },
  {
   "cell_type": "code",
   "execution_count": 206,
   "id": "6595d071",
   "metadata": {},
   "outputs": [],
   "source": [
    "df[\"local_time\"] = pd.to_datetime(df[\"local_time\"],format= '%H:%M:%S') #.dt.time\n",
    "#Voy a transformar los datos a una fecha completa porque es más sencillo graficarla que si solo aparece la hora."
   ]
  },
  {
   "cell_type": "code",
   "execution_count": 207,
   "id": "29a5148b",
   "metadata": {},
   "outputs": [
    {
     "data": {
      "text/plain": [
       "final_status  payment_status\n",
       "0             DELAYED               1\n",
       "              NOT_PAID            118\n",
       "              PAID               5713\n",
       "1             DELAYED               5\n",
       "              NOT_PAID            352\n",
       "              PAID              48141\n",
       "dtype: int64"
      ]
     },
     "execution_count": 207,
     "metadata": {},
     "output_type": "execute_result"
    }
   ],
   "source": [
    "df.groupby([\"final_status\",\"payment_status\"]).size()\n",
    "#La columna \"payment_status\" no parece tan relacionada, aunque podemos dumificarla y ver si el score aumenta"
   ]
  },
  {
   "cell_type": "code",
   "execution_count": 208,
   "id": "009009fa",
   "metadata": {},
   "outputs": [
    {
     "data": {
      "text/plain": [
       "country_code  final_status\n",
       "AR            0                1747\n",
       "              1               10107\n",
       "BR            0                   1\n",
       "CI            0                   3\n",
       "              1                   3\n",
       "CL            0                 137\n",
       "              1                 857\n",
       "CR            0                  74\n",
       "              1                 926\n",
       "DO            0                  39\n",
       "              1                 409\n",
       "EC            0                 234\n",
       "              1                2031\n",
       "EG            0                 196\n",
       "              1                1447\n",
       "ES            0                 920\n",
       "              1               10634\n",
       "FR            0                 157\n",
       "              1                1754\n",
       "GE            0                  70\n",
       "              1                 415\n",
       "GT            0                  43\n",
       "              1                 468\n",
       "IT            0                 261\n",
       "              1                2276\n",
       "KE            0                   7\n",
       "              1                  77\n",
       "MA            0                 224\n",
       "              1                1222\n",
       "PA            0                 103\n",
       "              1                 806\n",
       "PE            0                 361\n",
       "              1                3923\n",
       "PR            0                   4\n",
       "              1                  25\n",
       "PT            0                 134\n",
       "              1                 684\n",
       "RO            0                 158\n",
       "              1                1799\n",
       "TR            0                 516\n",
       "              1                5180\n",
       "UA            0                 399\n",
       "              1                3330\n",
       "UY            0                  44\n",
       "              1                 125\n",
       "dtype: int64"
      ]
     },
     "execution_count": 208,
     "metadata": {},
     "output_type": "execute_result"
    }
   ],
   "source": [
    "df.groupby([\"country_code\",\"final_status\"]).size()\n",
    "#La columna \"payment_status\" tampoco parece tan relacionada, aunque también se puede dumificar"
   ]
  },
  {
   "cell_type": "code",
   "execution_count": 209,
   "id": "af111d53",
   "metadata": {},
   "outputs": [
    {
     "data": {
      "image/png": "[encoded data removed]",
      "text/plain": [
       "<Figure size 1008x432 with 1 Axes>"
      ]
     },
     "metadata": {
      "needs_background": "light"
     },
     "output_type": "display_data"
    }
   ],
   "source": [
    "fig,ax = plt.subplots(figsize=(14,6))\n",
    "plt.hist(df[(df[\"final_status\"]==0)][\"local_time\"], bins=100, alpha=0.5, color=\"blue\")\n",
    "plt.hist(df[(df[\"final_status\"]==1)][\"local_time\"], bins=100, alpha=0.5, color=\"cyan\")\n",
    "myFmt = mdates.DateFormatter('%H:%M')\n",
    "ax.xaxis.set_major_formatter(myFmt)\n",
    "plt.show()\n",
    "#Parece que aunque siempre hay más pedidos entregados que cancelados, esa proporción disminuye por la noche"
   ]
  },
  {
   "cell_type": "markdown",
   "id": "0a6a0ad9",
   "metadata": {},
   "source": [
    "## Ahora resolveremos algunas cuestiones para ayudar a resolver el problema final"
   ]
  },
  {
   "cell_type": "markdown",
   "id": "f6645ea6",
   "metadata": {},
   "source": [
    "### ¿Cuáles son los 3 paises en los que más pedidos se realizan?"
   ]
  },
  {
   "cell_type": "code",
   "execution_count": 210,
   "id": "0243ab6a",
   "metadata": {},
   "outputs": [
    {
     "data": {
      "text/plain": [
       "country_code\n",
       "AR    11854\n",
       "ES    11554\n",
       "TR     5696\n",
       "dtype: int64"
      ]
     },
     "execution_count": 210,
     "metadata": {},
     "output_type": "execute_result"
    }
   ],
   "source": [
    "df.groupby([\"country_code\"]).size().sort_values(ascending=False)[:3] #Son Argentina, España y Turquía"
   ]
  },
  {
   "cell_type": "markdown",
   "id": "1e87cb68",
   "metadata": {},
   "source": [
    "### ¿Cuáles son las horas en las que se realizan más pedidos en España?"
   ]
  },
  {
   "cell_type": "code",
   "execution_count": 211,
   "id": "860d6307",
   "metadata": {},
   "outputs": [
    {
     "data": {
      "image/png": "[encoded data removed]",
      "text/plain": [
       "<Figure size 1008x432 with 1 Axes>"
      ]
     },
     "metadata": {
      "needs_background": "light"
     },
     "output_type": "display_data"
    }
   ],
   "source": [
    "fig,ax = plt.subplots(figsize=(14,6))\n",
    "plt.hist(df[(df[\"country_code\"]==\"ES\")][\"local_time\"], bins=100, alpha=0.5, color=\"green\")\n",
    "ax.xaxis.set_major_locator(mdates.HourLocator(interval=1))\n",
    "myFmt = mdates.DateFormatter('%H:%M')\n",
    "ax.xaxis.set_major_formatter(myFmt)\n",
    "plt.gcf().autofmt_xdate()\n",
    "plt.show()\n",
    "#Se ve que el pico más alto está entre las 7:30 y las 9:30"
   ]
  },
  {
   "cell_type": "markdown",
   "id": "5443e579",
   "metadata": {},
   "source": [
    "### ¿Cuál es el precio medio por pedido en la tienda con ID 12513?"
   ]
  },
  {
   "cell_type": "code",
   "execution_count": 212,
   "id": "24cc962a",
   "metadata": {},
   "outputs": [
    {
     "data": {
      "text/plain": [
       "17.392244897959173"
      ]
     },
     "execution_count": 212,
     "metadata": {},
     "output_type": "execute_result"
    }
   ],
   "source": [
    "df[(df[\"store_address\"]==12513)][\"products_total\"].mean() #17.39"
   ]
  },
  {
   "cell_type": "markdown",
   "id": "689aac89",
   "metadata": {},
   "source": [
    "Teniendo en cuenta los picos de demanda en España, si los repartidores trabajan en turnos de 8horas.\n",
    "<li> Turno 1 (00:00-08:00)\n",
    "<li> Turno 2 (08:00-16:00)\n",
    "<li> Turno 3 (16:00-00:00)"
   ]
  },
  {
   "cell_type": "markdown",
   "id": "4bdafd4a",
   "metadata": {},
   "source": [
    "### ¿Qué porcentaje de repartidores pondrías por cada turno para que sean capaces de hacer frente a los picos de demanda? (ej: Turno 1 el 30%, Turno 2 el 10% y Turno 3 el 60%)."
   ]
  },
  {
   "cell_type": "code",
   "execution_count": 213,
   "id": "915a5e6c",
   "metadata": {},
   "outputs": [],
   "source": [
    "turno1=df[(df[\"country_code\"]==\"ES\")&(df[\"local_time\"]<pd.to_datetime(\"8:00\",format= '%H:%M'))][\"order_id\"].count()"
   ]
  },
  {
   "cell_type": "code",
   "execution_count": 214,
   "id": "ccd2bcd9",
   "metadata": {},
   "outputs": [],
   "source": [
    "turno2=df[(df[\"country_code\"]==\"ES\")&(df[\"local_time\"]>=pd.to_datetime(\"8:00\",format= '%H:%M'))\n",
    "   &(df[\"local_time\"]<pd.to_datetime(\"16:00\",format= '%H:%M'))][\"order_id\"].count()"
   ]
  },
  {
   "cell_type": "code",
   "execution_count": 215,
   "id": "206e2159",
   "metadata": {},
   "outputs": [],
   "source": [
    "turno3=df[(df[\"country_code\"]==\"ES\")&(df[\"local_time\"]>=pd.to_datetime(\"16:00\",format= '%H:%M'))][\"order_id\"].count()"
   ]
  },
  {
   "cell_type": "code",
   "execution_count": 216,
   "id": "1a87a129",
   "metadata": {},
   "outputs": [
    {
     "data": {
      "image/png": "[encoded data removed]",
      "text/plain": [
       "<Figure size 576x432 with 1 Axes>"
      ]
     },
     "metadata": {},
     "output_type": "display_data"
    }
   ],
   "source": [
    "fig, ax = plt.subplots(figsize=(8,6))\n",
    "plt.pie([turno1,turno2,turno3],startangle=90,labels=[\"turno1\",\"turno2\",\"turno3\"],\n",
    "        counterclock=False,colors=[\"purple\",\"cyan\",\"orange\"],autopct = '%1.2f%%',radius=1)\n",
    "plt.show() #Estos serían los porcentajes ideales para hacer frente a los turnos de reparto."
   ]
  },
  {
   "cell_type": "markdown",
   "id": "49952003",
   "metadata": {},
   "source": [
    "### Modelo predictivo de machine learning a partir del dataset 'train.csv' en el cual a partir de las variables predictoras que se entregan en el dataset 'test_X' se pueda predecir si el pedido se cancelará o no (columna 'final_status')."
   ]
  },
  {
   "cell_type": "markdown",
   "id": "302547bc",
   "metadata": {},
   "source": [
    "#### Intentamos un modelo rápido con un RandomForest, en el que quitamos las columnas categóricas"
   ]
  },
  {
   "cell_type": "code",
   "execution_count": 371,
   "id": "d79d280f",
   "metadata": {},
   "outputs": [],
   "source": [
    "X = df.drop([\"order_id\",\"final_status\",\"local_time\",\"country_code\",\"payment_status\",\"store_address\"],axis=1)"
   ]
  },
  {
   "cell_type": "code",
   "execution_count": 372,
   "id": "4797bc6e",
   "metadata": {},
   "outputs": [],
   "source": [
    "X[\"local_time\"] = df[\"local_time\"].dt.strftime(\"%H:%M:%S\")"
   ]
  },
  {
   "cell_type": "code",
   "execution_count": 373,
   "id": "7179bf51",
   "metadata": {},
   "outputs": [],
   "source": [
    "X[\"local_time\"] = pd.to_timedelta(X[\"local_time\"]).dt.total_seconds() # Transformamos el tiempo en un timedelta"
   ]
  },
  {
   "cell_type": "code",
   "execution_count": 374,
   "id": "b2d72d58",
   "metadata": {},
   "outputs": [],
   "source": [
    "y = df[[\"final_status\"]]"
   ]
  },
  {
   "cell_type": "code",
   "execution_count": 262,
   "id": "468267cf",
   "metadata": {},
   "outputs": [
    {
     "name": "stderr",
     "output_type": "stream",
     "text": [
      "<ipython-input-262-77a86001db77>:3: DataConversionWarning: A column-vector y was passed when a 1d array was expected. Please change the shape of y to (n_samples,), for example using ravel().\n",
      "  rf = rf.fit(X_train, y_train)\n"
     ]
    },
    {
     "name": "stdout",
     "output_type": "stream",
     "text": [
      "0.9798685291700904\n"
     ]
    }
   ],
   "source": [
    "X_train, X_test, y_train, y_test = train_test_split(X, y, test_size=0.3)\n",
    "rf = RandomForestClassifier()\n",
    "rf = rf.fit(X_train, y_train)\n",
    "yhat = rf.predict(X_test)\n",
    "print(recall_score(y_test,yhat)) #El recall parece muy alto pero...\n"
   ]
  },
  {
   "cell_type": "code",
   "execution_count": 263,
   "id": "b8381984",
   "metadata": {},
   "outputs": [
    {
     "name": "stdout",
     "output_type": "stream",
     "text": [
      "[[   70  1625]\n",
      " [  294 14310]]\n"
     ]
    }
   ],
   "source": [
    "print(confusion_matrix(y_test,yhat)) #De la clase minoritaria, que es la que más nos interesan, se aciertan muy pocos.\n",
    "#Así que vamos a intentar mejorar los números de la fila de arriba."
   ]
  },
  {
   "cell_type": "code",
   "execution_count": 375,
   "id": "bf2c95af",
   "metadata": {},
   "outputs": [],
   "source": [
    "for columna in [\"country_code\",\"payment_status\",\"store_address\"]:\n",
    "    dummy_variable = pd.get_dummies(df[columna], prefix=str(columna), prefix_sep=\"_\")\n",
    "    X= pd.concat([X, dummy_variable], sort=False, axis=1)\n"
   ]
  },
  {
   "cell_type": "code",
   "execution_count": 288,
   "id": "fe0248d0",
   "metadata": {},
   "outputs": [
    {
     "name": "stderr",
     "output_type": "stream",
     "text": [
      "<ipython-input-288-77a86001db77>:3: DataConversionWarning: A column-vector y was passed when a 1d array was expected. Please change the shape of y to (n_samples,), for example using ravel().\n",
      "  rf = rf.fit(X_train, y_train)\n"
     ]
    },
    {
     "name": "stdout",
     "output_type": "stream",
     "text": [
      "0.9707518022657055\n"
     ]
    }
   ],
   "source": [
    "X_train, X_test, y_train, y_test = train_test_split(X, y, test_size=0.3)\n",
    "rf = RandomForestClassifier()\n",
    "rf = rf.fit(X_train, y_train)\n",
    "yhat = rf.predict(X_test)\n",
    "print(recall_score(y_test,yhat))"
   ]
  },
  {
   "cell_type": "code",
   "execution_count": 289,
   "id": "5518474a",
   "metadata": {},
   "outputs": [
    {
     "name": "stdout",
     "output_type": "stream",
     "text": [
      "[[  220  1514]\n",
      " [  426 14139]]\n"
     ]
    }
   ],
   "source": [
    "print(confusion_matrix(y_test,yhat))"
   ]
  },
  {
   "cell_type": "markdown",
   "id": "d4950159",
   "metadata": {},
   "source": [
    "#### Con esto mejora un poco pero sigue fallando demasiado en predecir los pedidos cancelados. Probemos otros modelos."
   ]
  },
  {
   "cell_type": "code",
   "execution_count": 301,
   "id": "009d53a0",
   "metadata": {},
   "outputs": [
    {
     "name": "stderr",
     "output_type": "stream",
     "text": [
      "C:\\Users\\JC\\anaconda3\\lib\\site-packages\\sklearn\\utils\\validation.py:63: DataConversionWarning: A column-vector y was passed when a 1d array was expected. Please change the shape of y to (n_samples, ), for example using ravel().\n",
      "  return f(*args, **kwargs)\n"
     ]
    },
    {
     "name": "stdout",
     "output_type": "stream",
     "text": [
      "0.9871628542164561\n",
      "[[   48  1606]\n",
      " [  188 14457]]\n"
     ]
    }
   ],
   "source": [
    "X_train, X_test, y_train, y_test = train_test_split(X, y, test_size=0.3)\n",
    "gnb = GaussianNB()\n",
    "gnb = gnb.fit(X_train, y_train)\n",
    "yhat = gnb.predict(X_test)\n",
    "print(recall_score(y_test,yhat))\n",
    "print(confusion_matrix(y_test,yhat))"
   ]
  },
  {
   "cell_type": "code",
   "execution_count": 322,
   "id": "618532fc",
   "metadata": {},
   "outputs": [
    {
     "name": "stderr",
     "output_type": "stream",
     "text": [
      "C:\\Users\\JC\\anaconda3\\lib\\site-packages\\sklearn\\neighbors\\_classification.py:179: DataConversionWarning: A column-vector y was passed when a 1d array was expected. Please change the shape of y to (n_samples,), for example using ravel().\n",
      "  return self._fit(X, y)\n"
     ]
    },
    {
     "name": "stdout",
     "output_type": "stream",
     "text": [
      "0.9002476609796367\n",
      "[[  199  1564]\n",
      " [ 1450 13086]]\n"
     ]
    }
   ],
   "source": [
    "X_train, X_test, y_train, y_test = train_test_split(X, y, test_size=0.3)\n",
    "knn = KNeighborsClassifier(1, algorithm=\"brute\")\n",
    "knn = knn.fit(X_train, y_train)\n",
    "yhat = knn.predict(X_test)\n",
    "print(recall_score(y_test,yhat))\n",
    "print(confusion_matrix(y_test,yhat))"
   ]
  },
  {
   "cell_type": "code",
   "execution_count": 305,
   "id": "c1ca74f2",
   "metadata": {},
   "outputs": [
    {
     "name": "stderr",
     "output_type": "stream",
     "text": [
      "C:\\Users\\JC\\anaconda3\\lib\\site-packages\\sklearn\\utils\\validation.py:63: DataConversionWarning: A column-vector y was passed when a 1d array was expected. Please change the shape of y to (n_samples, ), for example using ravel().\n",
      "  return f(*args, **kwargs)\n"
     ]
    },
    {
     "name": "stdout",
     "output_type": "stream",
     "text": [
      "1.0\n",
      "[[    0  1733]\n",
      " [    0 14566]]\n"
     ]
    }
   ],
   "source": [
    "X_train, X_test, y_train, y_test = train_test_split(X, y, test_size=0.3)\n",
    "lr = LogisticRegression(max_iter=150)\n",
    "lr = lr.fit(X_train, y_train)\n",
    "yhat = lr.predict(X_test)\n",
    "print(recall_score(y_test,yhat))\n",
    "print(confusion_matrix(y_test,yhat))"
   ]
  },
  {
   "cell_type": "markdown",
   "id": "6dcbf0c9",
   "metadata": {},
   "source": [
    "#### Con esto decidimos que los mejores modelos son el RandomForest y el KNN pero aun así, para mejorar el número de pedidos cancelados probaremos haciendo un undersampling."
   ]
  },
  {
   "cell_type": "code",
   "execution_count": 361,
   "id": "2384f2cd",
   "metadata": {},
   "outputs": [],
   "source": [
    "undersampling = RandomUnderSampler(sampling_strategy=0.5)\n",
    "#Especificamos que la clase minoritaria represente el 50% de la clase mayoritaria"
   ]
  },
  {
   "cell_type": "code",
   "execution_count": 362,
   "id": "05bba0fe",
   "metadata": {},
   "outputs": [
    {
     "name": "stderr",
     "output_type": "stream",
     "text": [
      "<ipython-input-362-d289fdbe7a4e>:4: DataConversionWarning: A column-vector y was passed when a 1d array was expected. Please change the shape of y to (n_samples,), for example using ravel().\n",
      "  rf = rf.fit(X_balanceado, y_balanceado)\n"
     ]
    },
    {
     "name": "stdout",
     "output_type": "stream",
     "text": [
      "0.8709766351919498\n"
     ]
    }
   ],
   "source": [
    "X_train, X_test, y_train, y_test = train_test_split(X, y, test_size=0.3)\n",
    "rf = RandomForestClassifier()\n",
    "X_balanceado, y_balanceado = undersampling.fit_resample(X_train, y_train)\n",
    "rf = rf.fit(X_balanceado, y_balanceado)\n",
    "yhat = rf.predict(X_test)\n",
    "print(recall_score(y_test,yhat))"
   ]
  },
  {
   "cell_type": "code",
   "execution_count": 363,
   "id": "8affd204",
   "metadata": {},
   "outputs": [
    {
     "name": "stdout",
     "output_type": "stream",
     "text": [
      "[[  613  1177]\n",
      " [ 1872 12637]]\n"
     ]
    }
   ],
   "source": [
    "print(confusion_matrix(y_test,yhat)) #Con el smote el resultado de los pedidos cancelados se mejoran bastante"
   ]
  },
  {
   "cell_type": "code",
   "execution_count": 364,
   "id": "e7872f30",
   "metadata": {},
   "outputs": [
    {
     "name": "stderr",
     "output_type": "stream",
     "text": [
      "C:\\Users\\JC\\anaconda3\\lib\\site-packages\\sklearn\\neighbors\\_classification.py:179: DataConversionWarning: A column-vector y was passed when a 1d array was expected. Please change the shape of y to (n_samples,), for example using ravel().\n",
      "  return self._fit(X, y)\n"
     ]
    },
    {
     "name": "stdout",
     "output_type": "stream",
     "text": [
      "0.6757442721909727\n",
      "[[ 604 1117]\n",
      " [4727 9851]]\n"
     ]
    }
   ],
   "source": [
    "X_train, X_test, y_train, y_test = train_test_split(X, y, test_size=0.3)\n",
    "knn = KNeighborsClassifier(1, algorithm=\"brute\")\n",
    "X_balanceado, y_balanceado = undersampling.fit_resample(X_train, y_train)\n",
    "knn = knn.fit(X_balanceado, y_balanceado)\n",
    "yhat = knn.predict(X_test)\n",
    "print(recall_score(y_test,yhat))\n",
    "print(confusion_matrix(y_test,yhat))"
   ]
  },
  {
   "cell_type": "markdown",
   "id": "495ebf71",
   "metadata": {},
   "source": [
    "#### Como se ve, los datos para los pedidos cancelados se predicen mucho mejor así, pero en general las cifras son peor así porque en la otra clase se equivoca mucho mejor."
   ]
  },
  {
   "cell_type": "code",
   "execution_count": 365,
   "id": "5954b0ee",
   "metadata": {},
   "outputs": [
    {
     "name": "stdout",
     "output_type": "stream",
     "text": [
      "0.8950309542902202\n",
      "[[ 1957  3875]\n",
      " [ 6075 42423]]\n"
     ]
    }
   ],
   "source": [
    "kf = KFold(n_splits=5)\n",
    "yhatlist = []\n",
    "f1 = []\n",
    "for train_index, test_index in kf.split(np.array(X), np.array(y)):\n",
    "    X_train, X_test = X[train_index], X[test_index]\n",
    "    y_train, y_test = y[train_index], y[test_index]\n",
    "    X_balanceado, y_balanceado = undersampling.fit_resample(X_train, y_train)\n",
    "    rf = RandomForestClassifier()\n",
    "    rf = rf.fit(X_balanceado, y_balanceado)\n",
    "    yhat = rf.predict(X_test)\n",
    "    yhatlist.extend(yhat)\n",
    "    f1.append(f1_score(y_test,yhat))\n",
    "conf_mat = confusion_matrix(y, yhatlist)\n",
    "print(statistics.mean(f1))\n",
    "print(conf_mat)"
   ]
  },
  {
   "cell_type": "code",
   "execution_count": 366,
   "id": "536fa8be",
   "metadata": {},
   "outputs": [
    {
     "name": "stdout",
     "output_type": "stream",
     "text": [
      "0.7760971923834254\n",
      "[[ 2057  3775]\n",
      " [15350 33148]]\n"
     ]
    }
   ],
   "source": [
    "kf = KFold(n_splits=5)\n",
    "yhatlist = []\n",
    "f1 = []\n",
    "for train_index, test_index in kf.split(np.array(X), np.array(y)):\n",
    "    X_train, X_test = X[train_index], X[test_index]\n",
    "    y_train, y_test = y[train_index], y[test_index]\n",
    "    X_balanceado, y_balanceado = undersampling.fit_resample(X_train, y_train)\n",
    "    knn = KNeighborsClassifier(1, algorithm=\"brute\")\n",
    "    knn = knn.fit(X_balanceado, y_balanceado)\n",
    "    yhat = knn.predict(X_test)\n",
    "    yhatlist.extend(yhat)\n",
    "    f1.append(f1_score(y_test,yhat))\n",
    "conf_mat = confusion_matrix(y, yhatlist)\n",
    "print(statistics.mean(f1))\n",
    "print(conf_mat)"
   ]
  },
  {
   "cell_type": "code",
   "execution_count": 367,
   "id": "ec825a0e",
   "metadata": {},
   "outputs": [
    {
     "name": "stderr",
     "output_type": "stream",
     "text": [
      "<ipython-input-367-1ab27a5c941c>:10: DataConversionWarning: A column-vector y was passed when a 1d array was expected. Please change the shape of y to (n_samples,), for example using ravel().\n",
      "  rf = rf.fit(X_train, y_train)\n",
      "<ipython-input-367-1ab27a5c941c>:10: DataConversionWarning: A column-vector y was passed when a 1d array was expected. Please change the shape of y to (n_samples,), for example using ravel().\n",
      "  rf = rf.fit(X_train, y_train)\n",
      "<ipython-input-367-1ab27a5c941c>:10: DataConversionWarning: A column-vector y was passed when a 1d array was expected. Please change the shape of y to (n_samples,), for example using ravel().\n",
      "  rf = rf.fit(X_train, y_train)\n",
      "<ipython-input-367-1ab27a5c941c>:10: DataConversionWarning: A column-vector y was passed when a 1d array was expected. Please change the shape of y to (n_samples,), for example using ravel().\n",
      "  rf = rf.fit(X_train, y_train)\n",
      "<ipython-input-367-1ab27a5c941c>:10: DataConversionWarning: A column-vector y was passed when a 1d array was expected. Please change the shape of y to (n_samples,), for example using ravel().\n",
      "  rf = rf.fit(X_train, y_train)\n"
     ]
    },
    {
     "name": "stdout",
     "output_type": "stream",
     "text": [
      "0.9379060922247325\n",
      "[[  865  4967]\n",
      " [ 1284 47214]]\n"
     ]
    }
   ],
   "source": [
    "kf = KFold(n_splits=5)\n",
    "yhatlist = []\n",
    "f1 = []\n",
    "for train_index, test_index in kf.split(np.array(X), np.array(y)):\n",
    "    X_train, X_test = X[train_index], X[test_index]\n",
    "    y_train, y_test = y[train_index], y[test_index]\n",
    "    rf = RandomForestClassifier()\n",
    "    rf = rf.fit(X_train, y_train)\n",
    "    yhat = rf.predict(X_test)\n",
    "    yhatlist.extend(yhat)\n",
    "    f1.append(f1_score(y_test,yhat))\n",
    "conf_mat = confusion_matrix(y, yhatlist)\n",
    "print(statistics.mean(f1))\n",
    "print(conf_mat)"
   ]
  },
  {
   "cell_type": "code",
   "execution_count": 368,
   "id": "51013e57",
   "metadata": {},
   "outputs": [
    {
     "name": "stderr",
     "output_type": "stream",
     "text": [
      "C:\\Users\\JC\\anaconda3\\lib\\site-packages\\sklearn\\neighbors\\_classification.py:179: DataConversionWarning: A column-vector y was passed when a 1d array was expected. Please change the shape of y to (n_samples,), for example using ravel().\n",
      "  return self._fit(X, y)\n",
      "C:\\Users\\JC\\anaconda3\\lib\\site-packages\\sklearn\\neighbors\\_classification.py:179: DataConversionWarning: A column-vector y was passed when a 1d array was expected. Please change the shape of y to (n_samples,), for example using ravel().\n",
      "  return self._fit(X, y)\n",
      "C:\\Users\\JC\\anaconda3\\lib\\site-packages\\sklearn\\neighbors\\_classification.py:179: DataConversionWarning: A column-vector y was passed when a 1d array was expected. Please change the shape of y to (n_samples,), for example using ravel().\n",
      "  return self._fit(X, y)\n",
      "C:\\Users\\JC\\anaconda3\\lib\\site-packages\\sklearn\\neighbors\\_classification.py:179: DataConversionWarning: A column-vector y was passed when a 1d array was expected. Please change the shape of y to (n_samples,), for example using ravel().\n",
      "  return self._fit(X, y)\n",
      "C:\\Users\\JC\\anaconda3\\lib\\site-packages\\sklearn\\neighbors\\_classification.py:179: DataConversionWarning: A column-vector y was passed when a 1d array was expected. Please change the shape of y to (n_samples,), for example using ravel().\n",
      "  return self._fit(X, y)\n"
     ]
    },
    {
     "name": "stdout",
     "output_type": "stream",
     "text": [
      "0.8966240017120869\n",
      "[[  727  5105]\n",
      " [ 4939 43559]]\n"
     ]
    }
   ],
   "source": [
    "kf = KFold(n_splits=5)\n",
    "yhatlist = []\n",
    "f1 = []\n",
    "for train_index, test_index in kf.split(np.array(X), np.array(y)):\n",
    "    X_train, X_test = X[train_index], X[test_index]\n",
    "    y_train, y_test = y[train_index], y[test_index]\n",
    "    knn = KNeighborsClassifier(1, algorithm=\"brute\")\n",
    "    knn = knn.fit(X_train, y_train)\n",
    "    yhat = knn.predict(X_test)\n",
    "    yhatlist.extend(yhat)\n",
    "    f1.append(f1_score(y_test,yhat))\n",
    "conf_mat = confusion_matrix(y, yhatlist)\n",
    "print(statistics.mean(f1))\n",
    "print(conf_mat)"
   ]
  },
  {
   "cell_type": "markdown",
   "id": "6d475c23",
   "metadata": {},
   "source": [
    "### En conclusión: cuantos más pedidos cancelados acierta, menos f1_score tiene. Habría que ver qué preferimos, si un modelo que acierte más pedidos cancelados o uno que acierte más en general. El orden empezando por cuál tiene más f1 sería el siguiente:"
   ]
  },
  {
   "cell_type": "markdown",
   "id": "d23adeea",
   "metadata": {},
   "source": [
    "<li> RandomForest sin Undersampling\n",
    "<li> KNN sin Undersampling\n",
    "<li> RandomForest con Undersampling\n",
    "<li> KNN con Undersampling"
   ]
  },
  {
   "cell_type": "markdown",
   "id": "499dc895",
   "metadata": {},
   "source": [
    "### Y el ganador es: RandomForest con Undersampling."
   ]
  },
  {
   "cell_type": "markdown",
   "id": "0476769f",
   "metadata": {},
   "source": [
    "#### Elegimos este modelo ya que, aunque tenga el segundo peor f1-score, también es el segundo más sensible y creemos que para esta predicción es lo más importante. El KNN con Undersampling lo descartamos ya que lo que acierta con respecto al RandomForest no compensa con lo que falla."
   ]
  },
  {
   "cell_type": "code",
   "execution_count": 377,
   "id": "dd03f31d",
   "metadata": {},
   "outputs": [],
   "source": [
    "df_test = pd.read_csv(\"test_X.csv\",delimiter=\";\")"
   ]
  },
  {
   "cell_type": "code",
   "execution_count": 378,
   "id": "04729e38",
   "metadata": {},
   "outputs": [],
   "source": [
    "X_test = df_test.drop([\"order_id\",\"local_time\",\"country_code\",\"payment_status\",\"store_address\"],axis=1)"
   ]
  },
  {
   "cell_type": "code",
   "execution_count": 379,
   "id": "b92ad7bf",
   "metadata": {},
   "outputs": [],
   "source": [
    "X_test[\"local_time\"] = pd.to_timedelta(df_test[\"local_time\"]).dt.total_seconds()"
   ]
  },
  {
   "cell_type": "code",
   "execution_count": 380,
   "id": "58d2bde0",
   "metadata": {},
   "outputs": [],
   "source": [
    "for columna in [\"country_code\",\"payment_status\",\"store_address\"]:\n",
    "    dummy_variable = pd.get_dummies(df_test[columna], prefix=str(columna), prefix_sep=\"_\")\n",
    "    X_test= pd.concat([X_test, dummy_variable], sort=False, axis=1)"
   ]
  },
  {
   "cell_type": "code",
   "execution_count": 381,
   "id": "1f58c3e2",
   "metadata": {},
   "outputs": [],
   "source": [
    "set_X_test=set(X_test.columns)"
   ]
  },
  {
   "cell_type": "code",
   "execution_count": 382,
   "id": "3868517c",
   "metadata": {},
   "outputs": [],
   "source": [
    "set_X = set(X.columns)"
   ]
  },
  {
   "cell_type": "code",
   "execution_count": 383,
   "id": "f49420de",
   "metadata": {},
   "outputs": [],
   "source": [
    "columnasnuevas = set_X.difference(set_X_test)"
   ]
  },
  {
   "cell_type": "code",
   "execution_count": 388,
   "id": "faa84bb6",
   "metadata": {},
   "outputs": [],
   "source": [
    "for i in columnasnuevas:\n",
    "    X_test[i] = 0"
   ]
  },
  {
   "cell_type": "code",
   "execution_count": 390,
   "id": "05ba67ad",
   "metadata": {},
   "outputs": [],
   "source": [
    "X_balanceado, y_balanceado = undersampling.fit_resample(X, y)"
   ]
  },
  {
   "cell_type": "code",
   "execution_count": 391,
   "id": "90cd993d",
   "metadata": {},
   "outputs": [
    {
     "name": "stderr",
     "output_type": "stream",
     "text": [
      "C:\\Users\\JC\\anaconda3\\lib\\site-packages\\sklearn\\neighbors\\_classification.py:179: DataConversionWarning: A column-vector y was passed when a 1d array was expected. Please change the shape of y to (n_samples,), for example using ravel().\n",
      "  return self._fit(X, y)\n"
     ]
    }
   ],
   "source": [
    "knn = KNeighborsClassifier(1, algorithm=\"brute\")\n",
    "knn = knn.fit(X_balanceado, y_balanceado)\n",
    "yhat = knn.predict(X_test)"
   ]
  },
  {
   "cell_type": "code",
   "execution_count": 393,
   "id": "e163ac77",
   "metadata": {},
   "outputs": [],
   "source": [
    "prediccion = pd.DataFrame()"
   ]
  },
  {
   "cell_type": "code",
   "execution_count": 394,
   "id": "dac73153",
   "metadata": {},
   "outputs": [],
   "source": [
    "prediccion[\"Predicción Final\"] = yhat"
   ]
  },
  {
   "cell_type": "code",
   "execution_count": 396,
   "id": "ab125055",
   "metadata": {},
   "outputs": [],
   "source": [
    "prediccion.to_csv(\"prediccion.csv\")"
   ]
  }
 ],
 "metadata": {
  "kernelspec": {
   "display_name": "Python 3",
   "language": "python",
   "name": "python3"
  },
  "language_info": {
   "codemirror_mode": {
    "name": "ipython",
    "version": 3
   },
   "file_extension": ".py",
   "mimetype": "text/x-python",
   "name": "python",
   "nbconvert_exporter": "python",
   "pygments_lexer": "ipython3",
   "version": "3.9.4"
  }
 },
 "nbformat": 4,
 "nbformat_minor": 5
}
